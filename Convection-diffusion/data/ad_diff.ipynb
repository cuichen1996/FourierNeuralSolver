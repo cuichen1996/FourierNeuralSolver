{
 "cells": [
  {
   "cell_type": "code",
   "execution_count": null,
   "metadata": {},
   "outputs": [],
   "source": [
    "import scipy as sp\n",
    "import numpy as np\n",
    "import scipy.sparse as sparse\n",
    "import scipy.sparse.linalg as sla\n",
    "import matplotlib.pyplot as plt"
   ]
  },
  {
   "cell_type": "markdown",
   "metadata": {},
   "source": [
    "求解如下对流扩散方程\n",
    "$$\n",
    "L u=-\\varepsilon \\Delta u+a u_{x}+b u_{y}=f^{\\Omega}(x, y) \\quad\\left(\\Omega=(0,1)^{2}\\right)\n",
    "$$"
   ]
  },
  {
   "cell_type": "markdown",
   "metadata": {},
   "source": [
    "一阶迎风格式"
   ]
  },
  {
   "cell_type": "code",
   "execution_count": null,
   "metadata": {},
   "outputs": [],
   "source": [
    "def upwind_stencil(epsilon, a, b, h):\n",
    "    \"\"\"\n",
    "    Creates the first-order upwind stencil\n",
    "    \"\"\"\n",
    "    stencil = np.zeros((3, 3))\n",
    "    stencil[1, 1] = h*(abs(a) + abs(b)) +4*epsilon\n",
    "    stencil[0, 1] = 1/2*h*(b-abs(b)) - epsilon\n",
    "    stencil[1, 0] = -1/2*h*(a+abs(a)) - epsilon\n",
    "    stencil[1, 2] = 1/2*h*(a-abs(a)) - epsilon\n",
    "    stencil[2, 1] = -1/2*h*(b+abs(b)) - epsilon\n",
    "    # stencil/=(h**2)\n",
    "    return stencil"
   ]
  },
  {
   "cell_type": "markdown",
   "metadata": {},
   "source": [
    "二阶中心差分离散格式，只有当Peclet条件满足格式才稳定\n",
    "$$\n",
    "P e:=\\frac{h}{\\varepsilon} \\max (|a|,|b|) \\leq 2\n",
    "$$"
   ]
  },
  {
   "cell_type": "code",
   "execution_count": null,
   "metadata": {},
   "outputs": [],
   "source": [
    "def central_stencil(epsilon, a, b, h):\n",
    "    \"\"\"\n",
    "    Creates the second-order upwind stencil\n",
    "    \"\"\"\n",
    "    stencil = np.zeros((3, 3))\n",
    "    stencil[1, 1] = 4*epsilon\n",
    "    stencil[0, 1] = b*h/2 - epsilon\n",
    "    stencil[1, 0] = -a*h/2 - epsilon\n",
    "    stencil[1, 2] = a*h/2 - epsilon\n",
    "    stencil[2, 1] = -b*h/2 - epsilon\n",
    "    # stencil/=(h**2)\n",
    "    return stencil"
   ]
  },
  {
   "cell_type": "markdown",
   "metadata": {},
   "source": [
    "stencil to matrix"
   ]
  },
  {
   "cell_type": "code",
   "execution_count": null,
   "metadata": {},
   "outputs": [],
   "source": [
    "def stencil_grid(S, grid):\n",
    "    N_v = np.prod(grid)  # number of vertices in the mesh\n",
    "    N_s = (S != 0).sum() # number of nonzero stencil entries\n",
    "\n",
    "    # diagonal offsets\n",
    "    diags = np.zeros(N_s, dtype=int)\n",
    "\n",
    "    # compute index offset of each dof within the stencil\n",
    "    strides = np.cumprod([1] + list(reversed(grid)))[:-1]\n",
    "    indices = tuple(i.copy() for i in S.nonzero())\n",
    "    for i, s in zip(indices, S.shape):\n",
    "        i -= s // 2\n",
    "\n",
    "    for stride, coords in zip(strides, reversed(indices)):\n",
    "        diags += stride * coords\n",
    "\n",
    "    data = S[S != 0].repeat(N_v).reshape(N_s, N_v)\n",
    "\n",
    "    indices = np.vstack(indices).T\n",
    "\n",
    "    # zero boundary connections\n",
    "    for index, diag in zip(indices, data):\n",
    "        diag = diag.reshape(grid)\n",
    "        for n, i in enumerate(index):\n",
    "            if i > 0:\n",
    "                s = [slice(None)] * len(grid)\n",
    "                s[n] = slice(0, i)\n",
    "                s = tuple(s)\n",
    "                diag[s] = 0\n",
    "            elif i < 0:\n",
    "                s = [slice(None)]*len(grid)\n",
    "                s[n] = slice(i, None)\n",
    "                s = tuple(s)\n",
    "                diag[s] = 0\n",
    "\n",
    "    # remove diagonals that lie outside matrix\n",
    "    mask = abs(diags) < N_v\n",
    "    if not mask.all():\n",
    "        diags = diags[mask]\n",
    "        data = data[mask]\n",
    "\n",
    "    # sum duplicate diagonals\n",
    "    if len(np.unique(diags)) != len(diags):\n",
    "        new_diags = np.unique(diags)\n",
    "        new_data = np.zeros((len(new_diags), data.shape[1]),\n",
    "                            dtype=data.dtype)\n",
    "\n",
    "        for dia, dat in zip(diags, data):\n",
    "            n = np.searchsorted(new_diags, dia)\n",
    "            new_data[n, :] += dat\n",
    "\n",
    "        diags = new_diags\n",
    "        data = new_data\n",
    "\n",
    "    return sparse.dia_matrix((data, diags), shape=(N_v, N_v)).tocsr()"
   ]
  },
  {
   "cell_type": "code",
   "execution_count": null,
   "metadata": {},
   "outputs": [],
   "source": [
    "def relaxJ(A, u, f, nu):\n",
    "    n = A.shape[0]\n",
    "    unew = u.copy()\n",
    "    Dinv = sparse.spdiags(1./A.diagonal(), [0], n, n)\n",
    "    omega = 4 / 5\n",
    "    for i in range(nu):\n",
    "        unew += omega * Dinv * (f - A * unew)\n",
    "    return unew\n",
    "\n",
    "def relaxGS(A, u, f, nu):\n",
    "    n = A.shape[0]\n",
    "    unew = u.copy()\n",
    "    D = sparse.spdiags(A.diagonal(), [0], A.shape[0], A.shape[1], format='csr')\n",
    "    E = -sparse.tril(A, -1)\n",
    "    \n",
    "    for i in range(nu):\n",
    "        unew += sla.spsolve(D-E, f - A * unew)\n",
    "\n",
    "    return unew"
   ]
  },
  {
   "cell_type": "code",
   "execution_count": null,
   "metadata": {},
   "outputs": [],
   "source": [
    "def hnorm(r):\n",
    "    \"\"\"define ||r||_h = h ||r||_2\"\"\"\n",
    "    n = len(r)\n",
    "    h = 1.0 / (n+1)\n",
    "    hrnorm = h * np.linalg.norm(r)\n",
    "    return hrnorm"
   ]
  },
  {
   "cell_type": "code",
   "execution_count": null,
   "metadata": {},
   "outputs": [],
   "source": [
    "def interpolation1d(nc, nf):\n",
    "    d = np.repeat([[1, 2, 1]], nc, axis=0).T\n",
    "    I = np.zeros((3,nc), dtype=int)\n",
    "    for i in range(nc):\n",
    "        I[:,i] = [2*i, 2*i+1, 2*i+2]\n",
    "    J = np.repeat([np.arange(nc)], 3, axis=0)\n",
    "    P = sparse.coo_matrix(\n",
    "        (d.ravel(), (I.ravel(), J.ravel()))\n",
    "        ).tocsr()\n",
    "    return 0.5 * P"
   ]
  },
  {
   "cell_type": "code",
   "execution_count": null,
   "metadata": {},
   "outputs": [],
   "source": [
    "relax = relaxGS\n",
    "def twogrid(A, P, A1, u0, f0, nu):\n",
    "    u0 = relax(A, u0, f0, nu)\n",
    "    f1 = P.T * (f0 - A * u0)\n",
    "\n",
    "    u1 = sla.spsolve(A1, f1)\n",
    "\n",
    "    u0 = u0 + P * u1\n",
    "    u0 = relax(A, u0, f0, nu)\n",
    "    return u0"
   ]
  },
  {
   "cell_type": "markdown",
   "metadata": {},
   "source": [
    "### 生成系统"
   ]
  },
  {
   "cell_type": "code",
   "execution_count": null,
   "metadata": {},
   "outputs": [],
   "source": [
    "k = 6\n",
    "n = 2**k - 1\n",
    "nc = 2**(k-1) - 1\n",
    "h = 1/(n+1)\n",
    "epsilon, a, b = 1e-3, 1, 1\n",
    "\n",
    "print(n)\n",
    "# upwindA = upwind_stencil(epsilon, a, b, h)\n",
    "# A = stencil_grid(upwindA, (n, n))\n",
    "\n",
    "centralA = central_stencil(epsilon, a, b, h)\n",
    "A = stencil_grid(centralA, (n, n))\n",
    "\n",
    "f = np.ones((n,n))*h**2   #* h^2乘到这里\n",
    "f[-1,:-1] -= centralA[2,1] \n",
    "f[:-1, -1] -= centralA[1,2] \n",
    "f[-1,-1] = f[-1,-1] - centralA[2,1] - centralA[1,2]\n",
    "f = f.ravel()\n",
    "# plt.pcolor(f, cmap='RdBu')\n",
    "# plt.colorbar()\n"
   ]
  },
  {
   "cell_type": "code",
   "execution_count": null,
   "metadata": {},
   "outputs": [],
   "source": [
    "centralA"
   ]
  },
  {
   "cell_type": "markdown",
   "metadata": {},
   "source": [
    "### solve Au = f"
   ]
  },
  {
   "cell_type": "code",
   "execution_count": null,
   "metadata": {},
   "outputs": [],
   "source": [
    "# x = np.ones(n**2)      # true solution\n",
    "# b = A@x                # right-hand side\n",
    "relax = relaxJ\n",
    "u = np.zeros_like(f)   # initial guess\n",
    "res = 1\n",
    "k = 1\n",
    "ress = [res]\n",
    "while res > 1e-6 and k<20000:\n",
    "    u = relax(A, u, f, 1)\n",
    "    res = np.linalg.norm(f - A @ u)/np.linalg.norm(f)\n",
    "    ress.append(res)\n",
    "    k = k + 1\n",
    "res = np.array(ress)\n",
    "plt.semilogy(res)\n",
    "plt.grid()\n",
    "plt.xlabel('iteration')\n",
    "plt.ylabel('residual')"
   ]
  },
  {
   "cell_type": "markdown",
   "metadata": {},
   "source": [
    "### 测试磨光"
   ]
  },
  {
   "cell_type": "code",
   "execution_count": null,
   "metadata": {},
   "outputs": [],
   "source": [
    "u = np.random.rand(n*n)\n",
    "\n",
    "plt.figure()\n",
    "plt.pcolormesh(u.reshape(n,n))\n",
    "plt.colorbar()\n",
    "\n",
    "relax = relaxJ\n",
    "u = relax(A, u, f, 5)\n",
    "plt.figure()\n",
    "plt.pcolormesh(u.reshape(n,n))\n",
    "plt.colorbar()"
   ]
  },
  {
   "cell_type": "markdown",
   "metadata": {},
   "source": [
    "## Cheby-semi"
   ]
  },
  {
   "cell_type": "code",
   "execution_count": null,
   "metadata": {},
   "outputs": [],
   "source": [
    "def Chebyshev_smoother(A, b, x0, taus, K):\n",
    "    for k in range(K):\n",
    "        for i in range(len(taus)):\n",
    "            r = b - A@x0\n",
    "            x0 = x0 + taus[i] * r\n",
    "    return x0\n"
   ]
  },
  {
   "cell_type": "code",
   "execution_count": null,
   "metadata": {},
   "outputs": [],
   "source": [
    "from scipy import linalg\n",
    "eA = linalg.eigvals(A.toarray()).real\n",
    "m = 10\n",
    "roots = [np.cos((np.pi*(2*i+1)) / (2*m)) for i in range(m)]\n",
    "miu = min(eA)\n",
    "L = max(eA)\n",
    "taus = [2 / (L + miu - (miu - L) * r) for r in roots]"
   ]
  },
  {
   "cell_type": "code",
   "execution_count": null,
   "metadata": {},
   "outputs": [],
   "source": [
    "u = np.zeros_like(f)   # initial guess\n",
    "res = 1\n",
    "k = 1\n",
    "ress = [res]\n",
    "while res > 1e-6 and k<20000:\n",
    "    u = Chebyshev_smoother(A, f, u, taus, 1)\n",
    "    res = np.linalg.norm(f - A @ u)/np.linalg.norm(f)\n",
    "    ress.append(res)\n",
    "    k = k + 1\n",
    "res = np.array(ress)\n",
    "plt.semilogy(res)\n",
    "plt.grid()\n",
    "plt.xlabel('iteration')\n",
    "plt.ylabel('residual')"
   ]
  },
  {
   "cell_type": "code",
   "execution_count": 42,
   "metadata": {},
   "outputs": [],
   "source": [
    "import torch"
   ]
  },
  {
   "cell_type": "code",
   "execution_count": 82,
   "metadata": {},
   "outputs": [],
   "source": [
    "def ComputeSmootherFactor(KernelA, N, tol, taus):\n",
    "    device = KernelA.device\n",
    "    h = 1/(N+1)\n",
    "    p1 = range(-N//2, N//2)\n",
    "    p2 = range(-N//2, N//2)\n",
    "    # p1 = np.fft.fftshift(p2)\n",
    "    # p2 = np.fft.fftshift(p2)\n",
    "    P1, P2 = np.meshgrid(p1, p2)\n",
    "    P1 = torch.from_numpy(P1)\n",
    "    P2 = torch.from_numpy(P2)\n",
    "    P1, P2 = P1.to(device), P2.to(device)\n",
    "    theta1 = 2*np.pi*P1*h\n",
    "    theta2 = 2*np.pi*P2*h\n",
    "    Y = torch.ones([KernelA.shape[0], 1, N, N], device=device)\n",
    "    for i in range(KernelA.shape[0]):\n",
    "        k1, k2, k3, k4, k5 = KernelA[i, 0, 0, 1], KernelA[i, 0, 1, 0], KernelA[i, 0, 1, 1], KernelA[i, 0, 1, 2], KernelA[i, 0, 2, 1]\n",
    "        y = 1\n",
    "        for j in range(len(taus)):\n",
    "            y *= 1-taus[j]*(k1*torch.exp(-1j*theta2)+k2*torch.exp(-1j*theta1)+k3+k4*torch.exp(1j*theta1)+k5*torch.exp(1j*theta2))\n",
    "            # print(y)\n",
    "            plt.pcolor(P1, P2, np.abs(y.numpy()), cmap='jet')\n",
    "            plt.colorbar()\n",
    "            plt.savefig('/home/kaijiang/cuichen/FNSsummer/0804/data/m_'+str(len(taus))+'_'+str(j+1)+'.jpg', dpi=300)\n",
    "            plt.close()\n",
    "        Y[i, 0, :, :] = y\n",
    "        # break\n",
    "    idx = torch.where(torch.abs(Y) < tol)\n",
    "    return idx"
   ]
  },
  {
   "cell_type": "code",
   "execution_count": 96,
   "metadata": {},
   "outputs": [],
   "source": [
    "def CreateKernelA(paras, data_num=1):\n",
    "    m = paras.shape[0]\n",
    "    KernelA = torch.zeros([m*data_num, 1, 3, 3], dtype=torch.float64)\n",
    "    for i in range(m):\n",
    "        epsilon, a, b, h = paras[i]\n",
    "        stencil = torch.zeros(3, 3)\n",
    "        stencil[1, 1] = 4*epsilon\n",
    "        stencil[0, 1] = b*h/2 - epsilon\n",
    "        stencil[1, 0] = -a*h/2 - epsilon\n",
    "        stencil[1, 2] = a*h/2 - epsilon\n",
    "        stencil[2, 1] = -b*h/2 - epsilon\n",
    "        # stencil = stencil/(h**2)\n",
    "        for j in range(data_num):\n",
    "            KernelA[i*data_num+j, 0] = stencil\n",
    "    return KernelA"
   ]
  },
  {
   "cell_type": "code",
   "execution_count": 97,
   "metadata": {},
   "outputs": [
    {
     "name": "stdout",
     "output_type": "stream",
     "text": [
      "tensor([1.0000e-03, 1.0000e-04, 1.0000e-05, 1.0000e-06])\n"
     ]
    }
   ],
   "source": [
    "N = 63\n",
    "h = 1/(N+1)\n",
    "epsilons_train = torch.tensor([1e-3, 1e-4, 1e-5, 1e-6])\n",
    "print(epsilons_train)\n",
    "\n",
    "etas_train = torch.zeros(4, 4)\n",
    "etas_train[:, 0] = epsilons_train\n",
    "etas_train[:, 1] = 1\n",
    "etas_train[:, 2] = 1\n",
    "etas_train[:, 3] = h\n",
    "KernelA = CreateKernelA(etas_train)\n",
    "\n",
    "A = stencil_grid(KernelA[0,0].numpy(), (N, N))\n",
    "from scipy import linalg\n",
    "eA = linalg.eigvals(A.toarray()).real\n"
   ]
  },
  {
   "cell_type": "code",
   "execution_count": 99,
   "metadata": {},
   "outputs": [
    {
     "name": "stdout",
     "output_type": "stream",
     "text": [
      "[199.9999905005102]\n"
     ]
    },
    {
     "name": "stderr",
     "output_type": "stream",
     "text": [
      "/home/kaijiang/miniconda3/envs/pde/lib/python3.7/site-packages/ipykernel_launcher.py:21: MatplotlibDeprecationWarning: shading='flat' when X and Y have the same dimensions as C is deprecated since 3.3.  Either specify the corners of the quadrilaterals with X and Y, or pass shading='auto', 'nearest' or 'gouraud', or set rcParams['pcolor.shading'].  This will become an error two minor releases later.\n"
     ]
    }
   ],
   "source": [
    "m = 1\n",
    "roots = [np.cos((np.pi*(2*i+1)) / (2*m)) for i in range(m)]\n",
    "# miu = min(eA)\n",
    "L = max(eA)\n",
    "miu = L / 5\n",
    "# taus = [2 / (L + miu - (miu - L) * r) for r in roots]\n",
    "taus = [1/A[1,1]*4/5]  #* Jacobi\n",
    "print(taus)\n",
    "idx = ComputeSmootherFactor(KernelA, N, 0.5, taus)"
   ]
  },
  {
   "cell_type": "code",
   "execution_count": 100,
   "metadata": {},
   "outputs": [
    {
     "data": {
      "text/plain": [
       "<matplotlib.colorbar.Colorbar at 0x7f4ff17f3710>"
      ]
     },
     "execution_count": 100,
     "metadata": {},
     "output_type": "execute_result"
    },
    {
     "data": {
      "image/png": "[encoded data removed]",
      "text/plain": [
       "<Figure size 432x288 with 2 Axes>"
      ]
     },
     "metadata": {
      "needs_background": "light"
     },
     "output_type": "display_data"
    }
   ],
   "source": [
    "x = np.ones((4,1,N,N))\n",
    "x[idx] = 0\n",
    "idx1 = np.where(x[0,0,:,:] == 0)\n",
    "idx2 = np.where(x[1,0,:,:] == 0)\n",
    "\n",
    "y = np.ones((N,N))\n",
    "y[idx1[-1], idx1[-2]] = 0\n",
    "plt.pcolor(y)\n",
    "plt.colorbar()"
   ]
  },
  {
   "cell_type": "markdown",
   "metadata": {},
   "source": [
    "### GMG"
   ]
  },
  {
   "cell_type": "code",
   "execution_count": null,
   "metadata": {},
   "outputs": [],
   "source": [
    "# P1d = interpolation1d(nc, n)\n",
    "# P = sparse.kron(P1d, P1d).tocsr()\n",
    "\n",
    "# u = np.zeros_like(f)\n",
    "\n",
    "# A1 = P.T * A * P\n",
    "# res = [1]\n",
    "# for i in range(30):\n",
    "#     u = twogrid(A, P, A1, u, f, 3)\n",
    "#     res1 = np.linalg.norm(f - A @ u)/np.linalg.norm(f)\n",
    "#     res.append(res1)\n",
    "\n",
    "# res = np.array(res)\n",
    "# print(res)\n",
    "# print(res[1:] / res[:-1])\n",
    "# plt.semilogy(res)\n",
    "# plt.grid()\n",
    "# plt.xlabel('iteration')\n",
    "# plt.ylabel('residual')"
   ]
  },
  {
   "cell_type": "code",
   "execution_count": 101,
   "metadata": {},
   "outputs": [
    {
     "data": {
      "text/plain": [
       "tensor([1.9717e-04, 2.2193e-04, 4.0356e-05, 3.3459e-05, 1.9471e-05, 2.7565e-05,\n",
       "        3.5881e-04, 4.5361e-05, 1.3497e-05, 1.1138e-03, 1.1617e-04, 1.2559e-03,\n",
       "        3.2491e-05, 2.0872e-03, 1.8504e-05, 4.6658e-04, 2.5305e-04, 1.3093e-04,\n",
       "        3.1015e-05, 1.3941e-03])"
      ]
     },
     "execution_count": 101,
     "metadata": {},
     "output_type": "execute_result"
    }
   ],
   "source": [
    "import torch\n",
    "torch.pow(0.1, torch.rand(20)*3)*1e-2"
   ]
  },
  {
   "cell_type": "code",
   "execution_count": 2,
   "metadata": {},
   "outputs": [],
   "source": [
    "from matplotlib import pyplot as plt\n",
    "import numpy as np\n",
    "import torch"
   ]
  },
  {
   "cell_type": "code",
   "execution_count": 12,
   "metadata": {},
   "outputs": [
    {
     "data": {
      "text/plain": [
       "31"
      ]
     },
     "execution_count": 12,
     "metadata": {},
     "output_type": "execute_result"
    }
   ],
   "source": [
    "p1[-1]"
   ]
  },
  {
   "cell_type": "code",
   "execution_count": 25,
   "metadata": {},
   "outputs": [
    {
     "data": {
      "image/png": "[encoded data removed]",
      "text/plain": [
       "<Figure size 432x288 with 2 Axes>"
      ]
     },
     "metadata": {
      "needs_background": "light"
     },
     "output_type": "display_data"
    }
   ],
   "source": [
    "N = 64\n",
    "h = 1/N\n",
    "omega = 2/3\n",
    "p1 = range(-N//2, N//2)\n",
    "p2 = range(-N//2, N//2)\n",
    "P1, P2 = np.meshgrid(p1, p2)\n",
    "P1 = torch.from_numpy(P1)\n",
    "P2 = torch.from_numpy(P2)\n",
    "theta1 = 2*np.pi*P1*h\n",
    "theta2 = 2*np.pi*P2*h\n",
    "Y = 1-omega +omega/2*(np.cos(theta1)+np.cos(theta2))\n",
    "plt.pcolor(P1, P2, np.abs(Y.numpy()), cmap='jet')\n",
    "plt.colorbar()\n",
    "plt.xlabel('p1')\n",
    "plt.ylabel('p2')\n",
    "ax = plt.gca()\n",
    "ax.set_aspect(1)\n",
    "plt.savefig('/home/kaijiang/cuichen/FNSsummer/0807/data/poisson.png', dpi=300)"
   ]
  },
  {
   "cell_type": "code",
   "execution_count": 6,
   "metadata": {},
   "outputs": [
    {
     "data": {
      "image/png": "[encoded data removed]",
      "text/plain": [
       "<Figure size 432x288 with 1 Axes>"
      ]
     },
     "metadata": {
      "needs_background": "light"
     },
     "output_type": "display_data"
    }
   ],
   "source": [
    "import numpy as np\n",
    "from matplotlib import pyplot as plt\n",
    "res3 = np.load(\"/home/kaijiang/cuichen/FNSsummer/0817/expriments/mL_3KS_5/prediction/ress_FNS_3.npy\")\n",
    "res4 = np.load(\"/home/kaijiang/cuichen/FNSsummer/0817/expriments/mL_3KS_5/prediction/ress_FNS_4.npy\")\n",
    "res5 = np.load(\"/home/kaijiang/cuichen/FNSsummer/0817/expriments/mL_3KS_5/prediction/ress_FNS_5.npy\")\n",
    "res6 = np.load(\"/home/kaijiang/cuichen/FNSsummer/0817/expriments/mL_3KS_5/prediction/ress_FNS_6.npy\")\n",
    "plt.semilogy(res3, label=r'$\\varepsilon=10^{-3}$')\n",
    "plt.semilogy(res4, label=r'$\\varepsilon=10^{-4}$')\n",
    "plt.semilogy(res5, label=r'$\\varepsilon=10^{-5}$')\n",
    "plt.semilogy(res6, label=r'$\\varepsilon=10^{-6}$')\n",
    "plt.grid()\n",
    "plt.legend()\n",
    "plt.xlabel('iteration', fontsize=16)\n",
    "plt.ylabel('relative residual', fontsize=16)\n",
    "plt.savefig('/home/kaijiang/cuichen/FNSsummer/0817/expriments/mL_3KS_5/prediction/ad_residual.jpg', dpi=300)\n"
   ]
  }
 ],
 "metadata": {
  "kernelspec": {
   "display_name": "Python 3.8.10 ('pde')",
   "language": "python",
   "name": "python3"
  },
  "language_info": {
   "codemirror_mode": {
    "name": "ipython",
    "version": 3
   },
   "file_extension": ".py",
   "mimetype": "text/x-python",
   "name": "python",
   "nbconvert_exporter": "python",
   "pygments_lexer": "ipython3",
   "version": "3.7.8"
  },
  "orig_nbformat": 4,
  "vscode": {
   "interpreter": {
    "hash": "c97889fe5c871dde839ad93ec15f8e7c1c43bf402b0ebe78ba110507841f02dd"
   }
  }
 },
 "nbformat": 4,
 "nbformat_minor": 2
}
